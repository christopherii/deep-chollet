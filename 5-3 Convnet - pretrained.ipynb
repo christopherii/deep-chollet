{
 "cells": [
  {
   "cell_type": "code",
   "execution_count": 2,
   "metadata": {},
   "outputs": [],
   "source": [
    "from keras.applications import VGG16"
   ]
  },
  {
   "cell_type": "code",
   "execution_count": 35,
   "metadata": {},
   "outputs": [],
   "source": [
    "conv_base = VGG16(weights='imagenet',\n",
    "               include_top=False,\n",
    "               input_shape=(150, 150, 3))"
   ]
  },
  {
   "cell_type": "code",
   "execution_count": 6,
   "metadata": {},
   "outputs": [
    {
     "name": "stdout",
     "output_type": "stream",
     "text": [
      "_________________________________________________________________\n",
      "Layer (type)                 Output Shape              Param #   \n",
      "=================================================================\n",
      "input_1 (InputLayer)         (None, None, None, 3)     0         \n",
      "_________________________________________________________________\n",
      "block1_conv1 (Conv2D)        (None, None, None, 64)    1792      \n",
      "_________________________________________________________________\n",
      "block1_conv2 (Conv2D)        (None, None, None, 64)    36928     \n",
      "_________________________________________________________________\n",
      "block1_pool (MaxPooling2D)   (None, None, None, 64)    0         \n",
      "_________________________________________________________________\n",
      "block2_conv1 (Conv2D)        (None, None, None, 128)   73856     \n",
      "_________________________________________________________________\n",
      "block2_conv2 (Conv2D)        (None, None, None, 128)   147584    \n",
      "_________________________________________________________________\n",
      "block2_pool (MaxPooling2D)   (None, None, None, 128)   0         \n",
      "_________________________________________________________________\n",
      "block3_conv1 (Conv2D)        (None, None, None, 256)   295168    \n",
      "_________________________________________________________________\n",
      "block3_conv2 (Conv2D)        (None, None, None, 256)   590080    \n",
      "_________________________________________________________________\n",
      "block3_conv3 (Conv2D)        (None, None, None, 256)   590080    \n",
      "_________________________________________________________________\n",
      "block3_pool (MaxPooling2D)   (None, None, None, 256)   0         \n",
      "_________________________________________________________________\n",
      "block4_conv1 (Conv2D)        (None, None, None, 512)   1180160   \n",
      "_________________________________________________________________\n",
      "block4_conv2 (Conv2D)        (None, None, None, 512)   2359808   \n",
      "_________________________________________________________________\n",
      "block4_conv3 (Conv2D)        (None, None, None, 512)   2359808   \n",
      "_________________________________________________________________\n",
      "block4_pool (MaxPooling2D)   (None, None, None, 512)   0         \n",
      "_________________________________________________________________\n",
      "block5_conv1 (Conv2D)        (None, None, None, 512)   2359808   \n",
      "_________________________________________________________________\n",
      "block5_conv2 (Conv2D)        (None, None, None, 512)   2359808   \n",
      "_________________________________________________________________\n",
      "block5_conv3 (Conv2D)        (None, None, None, 512)   2359808   \n",
      "_________________________________________________________________\n",
      "block5_pool (MaxPooling2D)   (None, None, None, 512)   0         \n",
      "=================================================================\n",
      "Total params: 14,714,688\n",
      "Trainable params: 14,714,688\n",
      "Non-trainable params: 0\n",
      "_________________________________________________________________\n"
     ]
    }
   ],
   "source": [
    "conv_base.summary()"
   ]
  },
  {
   "cell_type": "code",
   "execution_count": 11,
   "metadata": {},
   "outputs": [],
   "source": [
    "import os\n",
    "import numpy as np\n",
    "from keras.preprocessing.image import ImageDataGenerator"
   ]
  },
  {
   "cell_type": "code",
   "execution_count": 12,
   "metadata": {},
   "outputs": [],
   "source": [
    "base_dir = '/home/ubuntu/deep-chollet/cats_and_dogs_small'\n",
    "train_dir = os.path.join(base_dir, 'train')\n",
    "validation_dir = os.path.join(base_dir, 'validation')\n",
    "test_dir = os.path.join(base_dir, 'test')"
   ]
  },
  {
   "cell_type": "code",
   "execution_count": 17,
   "metadata": {},
   "outputs": [
    {
     "name": "stdout",
     "output_type": "stream",
     "text": [
      "Found 2000 images belonging to 2 classes.\n",
      "Found 1000 images belonging to 2 classes.\n",
      "Found 1000 images belonging to 2 classes.\n"
     ]
    }
   ],
   "source": [
    "datagen = ImageDataGenerator(rescale=1./255)\n",
    "batch_size = 20\n",
    "\n",
    "def extract_features(directory, sample_count):\n",
    "    features = np.zeros(shape=(sample_count, 4, 4, 512))\n",
    "    labels = np.zeros(shape=(sample_count))\n",
    "    generator = datagen.flow_from_directory(\n",
    "        directory,\n",
    "        target_size=(150, 150),\n",
    "        batch_size=batch_size,\n",
    "        class_mode='binary')\n",
    "    i = 0\n",
    "    for inputs_batch, labels_batch in generator:\n",
    "        features_batch = conv_base.predict(inputs_batch)\n",
    "        features[i * batch_size : (i + 1) * batch_size] = features_batch\n",
    "        labels[i * batch_size : (i + 1) * batch_size] = labels_batch\n",
    "        i += 1\n",
    "        if i * batch_size >= sample_count:\n",
    "            break\n",
    "    return features, labels\n",
    "\n",
    "train_features, train_labels = extract_features(train_dir, 2000)\n",
    "validation_features, validation_labels = extract_features(validation_dir, 1000)\n",
    "test_features, test_labels = extract_features(test_dir, 1000)"
   ]
  },
  {
   "cell_type": "code",
   "execution_count": 19,
   "metadata": {},
   "outputs": [],
   "source": [
    "train_features = np.reshape(train_features, (2000, 4 * 4 * 512))\n",
    "validation_features = np.reshape(validation_features, (1000, 4 * 4 * 512))\n",
    "test_features = np.reshape(test_features, (1000, 4 * 4 * 512))"
   ]
  },
  {
   "cell_type": "code",
   "execution_count": 20,
   "metadata": {},
   "outputs": [
    {
     "name": "stdout",
     "output_type": "stream",
     "text": [
      "Train on 2000 samples, validate on 1000 samples\n",
      "Epoch 1/30\n",
      "2000/2000 [==============================] - 2s 804us/step - loss: 0.6118 - acc: 0.6650 - val_loss: 0.4377 - val_acc: 0.8260\n",
      "Epoch 2/30\n",
      "2000/2000 [==============================] - 1s 309us/step - loss: 0.4414 - acc: 0.7950 - val_loss: 0.3579 - val_acc: 0.8650\n",
      "Epoch 3/30\n",
      "2000/2000 [==============================] - 1s 310us/step - loss: 0.3588 - acc: 0.8440 - val_loss: 0.3177 - val_acc: 0.8790\n",
      "Epoch 4/30\n",
      "2000/2000 [==============================] - 1s 309us/step - loss: 0.3164 - acc: 0.8620 - val_loss: 0.2937 - val_acc: 0.8890\n",
      "Epoch 5/30\n",
      "2000/2000 [==============================] - 1s 310us/step - loss: 0.2956 - acc: 0.8820 - val_loss: 0.2837 - val_acc: 0.8870\n",
      "Epoch 6/30\n",
      "2000/2000 [==============================] - 1s 309us/step - loss: 0.2614 - acc: 0.8940 - val_loss: 0.2712 - val_acc: 0.8970\n",
      "Epoch 7/30\n",
      "2000/2000 [==============================] - 1s 309us/step - loss: 0.2527 - acc: 0.8965 - val_loss: 0.2629 - val_acc: 0.8990\n",
      "Epoch 8/30\n",
      "2000/2000 [==============================] - 1s 311us/step - loss: 0.2287 - acc: 0.9150 - val_loss: 0.2572 - val_acc: 0.9000\n",
      "Epoch 9/30\n",
      "2000/2000 [==============================] - 1s 309us/step - loss: 0.2136 - acc: 0.9170 - val_loss: 0.2583 - val_acc: 0.8930\n",
      "Epoch 10/30\n",
      "2000/2000 [==============================] - 1s 310us/step - loss: 0.1940 - acc: 0.9245 - val_loss: 0.2469 - val_acc: 0.9020\n",
      "Epoch 11/30\n",
      "2000/2000 [==============================] - 1s 309us/step - loss: 0.1916 - acc: 0.9270 - val_loss: 0.2440 - val_acc: 0.9000\n",
      "Epoch 12/30\n",
      "2000/2000 [==============================] - 1s 308us/step - loss: 0.1812 - acc: 0.9320 - val_loss: 0.2429 - val_acc: 0.9020\n",
      "Epoch 13/30\n",
      "2000/2000 [==============================] - 1s 309us/step - loss: 0.1776 - acc: 0.9365 - val_loss: 0.2544 - val_acc: 0.9010\n",
      "Epoch 14/30\n",
      "2000/2000 [==============================] - 1s 309us/step - loss: 0.1705 - acc: 0.9405 - val_loss: 0.2421 - val_acc: 0.9000\n",
      "Epoch 15/30\n",
      "2000/2000 [==============================] - 1s 309us/step - loss: 0.1624 - acc: 0.9425 - val_loss: 0.2379 - val_acc: 0.9020\n",
      "Epoch 16/30\n",
      "2000/2000 [==============================] - 1s 308us/step - loss: 0.1560 - acc: 0.9415 - val_loss: 0.2402 - val_acc: 0.9010\n",
      "Epoch 17/30\n",
      "2000/2000 [==============================] - 1s 308us/step - loss: 0.1503 - acc: 0.9455 - val_loss: 0.2408 - val_acc: 0.9050\n",
      "Epoch 18/30\n",
      "2000/2000 [==============================] - 1s 308us/step - loss: 0.1414 - acc: 0.9485 - val_loss: 0.2392 - val_acc: 0.9040\n",
      "Epoch 19/30\n",
      "2000/2000 [==============================] - 1s 309us/step - loss: 0.1278 - acc: 0.9550 - val_loss: 0.2377 - val_acc: 0.9020\n",
      "Epoch 20/30\n",
      "2000/2000 [==============================] - 1s 309us/step - loss: 0.1257 - acc: 0.9540 - val_loss: 0.2539 - val_acc: 0.8990\n",
      "Epoch 21/30\n",
      "2000/2000 [==============================] - 1s 308us/step - loss: 0.1242 - acc: 0.9555 - val_loss: 0.2458 - val_acc: 0.9020\n",
      "Epoch 22/30\n",
      "2000/2000 [==============================] - 1s 308us/step - loss: 0.1195 - acc: 0.9605 - val_loss: 0.2614 - val_acc: 0.8960\n",
      "Epoch 23/30\n",
      "2000/2000 [==============================] - 1s 307us/step - loss: 0.1159 - acc: 0.9615 - val_loss: 0.2364 - val_acc: 0.8980\n",
      "Epoch 24/30\n",
      "2000/2000 [==============================] - 1s 308us/step - loss: 0.1109 - acc: 0.9655 - val_loss: 0.2392 - val_acc: 0.9020\n",
      "Epoch 25/30\n",
      "2000/2000 [==============================] - 1s 308us/step - loss: 0.1040 - acc: 0.9690 - val_loss: 0.2380 - val_acc: 0.9020\n",
      "Epoch 26/30\n",
      "2000/2000 [==============================] - 1s 310us/step - loss: 0.1046 - acc: 0.9640 - val_loss: 0.2389 - val_acc: 0.9030\n",
      "Epoch 27/30\n",
      "2000/2000 [==============================] - 1s 308us/step - loss: 0.0954 - acc: 0.9730 - val_loss: 0.2403 - val_acc: 0.9000\n",
      "Epoch 28/30\n",
      "2000/2000 [==============================] - 1s 308us/step - loss: 0.0947 - acc: 0.9720 - val_loss: 0.2407 - val_acc: 0.9020\n",
      "Epoch 29/30\n",
      "2000/2000 [==============================] - 1s 309us/step - loss: 0.0937 - acc: 0.9730 - val_loss: 0.2424 - val_acc: 0.9000\n",
      "Epoch 30/30\n",
      "2000/2000 [==============================] - 1s 309us/step - loss: 0.0865 - acc: 0.9735 - val_loss: 0.2517 - val_acc: 0.9020\n"
     ]
    }
   ],
   "source": [
    "from keras import models\n",
    "from keras import layers\n",
    "from keras import optimizers\n",
    "\n",
    "model = models.Sequential()\n",
    "model.add(layers.Dense(256, activation='relu', input_dim=4 * 4 * 512))\n",
    "model.add(layers.Dropout(.5))\n",
    "model.add(layers.Dense(1, activation='sigmoid'))\n",
    "\n",
    "model.compile(optimizer=optimizers.RMSprop(lr=2e-5),\n",
    "             loss='binary_crossentropy',\n",
    "             metrics=['acc'])\n",
    "\n",
    "history = model.fit(train_features, train_labels,\n",
    "                   epochs=30,\n",
    "                   batch_size=20,\n",
    "                   validation_data=(validation_features, validation_labels))"
   ]
  },
  {
   "cell_type": "code",
   "execution_count": 22,
   "metadata": {},
   "outputs": [
    {
     "data": {
      "text/plain": [
       "<Figure size 432x288 with 0 Axes>"
      ]
     },
     "execution_count": 22,
     "metadata": {},
     "output_type": "execute_result"
    },
    {
     "data": {
      "image/png": "[encoded data removed]",
      "text/plain": [
       "<Figure size 432x288 with 1 Axes>"
      ]
     },
     "metadata": {},
     "output_type": "display_data"
    },
    {
     "data": {
      "image/png": "[encoded data removed]",
      "text/plain": [
       "<Figure size 432x288 with 1 Axes>"
      ]
     },
     "metadata": {},
     "output_type": "display_data"
    },
    {
     "data": {
      "text/plain": [
       "<Figure size 432x288 with 0 Axes>"
      ]
     },
     "metadata": {},
     "output_type": "display_data"
    }
   ],
   "source": [
    "import matplotlib.pyplot as plt\n",
    "\n",
    "acc = history.history['acc']\n",
    "val_acc = history.history['val_acc']\n",
    "loss = history.history['loss']\n",
    "val_loss = history.history['val_loss']\n",
    "\n",
    "epochs = range(1, len(acc) + 1)\n",
    "\n",
    "plt.plot(epochs, acc, 'bo', label='Training acc')\n",
    "plt.plot(epochs, val_acc, 'b', label='Validation acc')\n",
    "plt.legend()\n",
    "plt.figure()\n",
    "\n",
    "plt.plot(epochs, loss, 'bo', label='Training loss')\n",
    "plt.plot(epochs, val_loss, 'b', label='Validation loss')\n",
    "plt.legend()\n",
    "plt.figure()"
   ]
  },
  {
   "cell_type": "code",
   "execution_count": 42,
   "metadata": {},
   "outputs": [
    {
     "name": "stdout",
     "output_type": "stream",
     "text": [
      "_________________________________________________________________\n",
      "Layer (type)                 Output Shape              Param #   \n",
      "=================================================================\n",
      "vgg16 (Model)                (None, 4, 4, 512)         14714688  \n",
      "_________________________________________________________________\n",
      "flatten_8 (Flatten)          (None, 8192)              0         \n",
      "_________________________________________________________________\n",
      "dense_9 (Dense)              (None, 256)               2097408   \n",
      "_________________________________________________________________\n",
      "dense_10 (Dense)             (None, 1)                 257       \n",
      "=================================================================\n",
      "Total params: 16,812,353\n",
      "Trainable params: 2,097,665\n",
      "Non-trainable params: 14,714,688\n",
      "_________________________________________________________________\n"
     ]
    }
   ],
   "source": [
    "model = models.Sequential()\n",
    "model.add(conv_base)\n",
    "model.add(layers.Flatten())\n",
    "model.add(layers.Dense(256, activation='relu'))\n",
    "model.add(layers.Dense(1, activation='sigmoid'))\n",
    "model.summary()"
   ]
  },
  {
   "cell_type": "code",
   "execution_count": 43,
   "metadata": {},
   "outputs": [
    {
     "name": "stdout",
     "output_type": "stream",
     "text": [
      "4\n",
      "4\n"
     ]
    }
   ],
   "source": [
    "print(len(model.trainable_weights))\n",
    "conv_base.trainable = False\n",
    "print(len(model.trainable_weights))"
   ]
  },
  {
   "cell_type": "code",
   "execution_count": 44,
   "metadata": {},
   "outputs": [
    {
     "name": "stdout",
     "output_type": "stream",
     "text": [
      "Found 2000 images belonging to 2 classes.\n",
      "Found 1000 images belonging to 2 classes.\n",
      "Epoch 1/30\n",
      "100/100 [==============================] - 27s 269ms/step - loss: 0.5959 - acc: 0.6985 - val_loss: 0.4567 - val_acc: 0.8190\n",
      "Epoch 2/30\n",
      "100/100 [==============================] - 24s 244ms/step - loss: 0.4930 - acc: 0.7780 - val_loss: 0.3763 - val_acc: 0.8660\n",
      "Epoch 3/30\n",
      "100/100 [==============================] - 25s 246ms/step - loss: 0.4405 - acc: 0.8020 - val_loss: 0.3331 - val_acc: 0.8740\n",
      "Epoch 4/30\n",
      "100/100 [==============================] - 25s 246ms/step - loss: 0.3968 - acc: 0.8255 - val_loss: 0.3107 - val_acc: 0.8770\n",
      "Epoch 5/30\n",
      "100/100 [==============================] - 25s 246ms/step - loss: 0.3846 - acc: 0.8290 - val_loss: 0.2943 - val_acc: 0.8890\n",
      "Epoch 6/30\n",
      "100/100 [==============================] - 25s 254ms/step - loss: 0.3619 - acc: 0.8370 - val_loss: 0.2826 - val_acc: 0.8890\n",
      "Epoch 7/30\n",
      "100/100 [==============================] - 25s 245ms/step - loss: 0.3582 - acc: 0.8455 - val_loss: 0.3042 - val_acc: 0.8690\n",
      "Epoch 8/30\n",
      "100/100 [==============================] - 26s 255ms/step - loss: 0.3642 - acc: 0.8345 - val_loss: 0.2721 - val_acc: 0.8860\n",
      "Epoch 9/30\n",
      "100/100 [==============================] - 25s 246ms/step - loss: 0.3467 - acc: 0.8610 - val_loss: 0.2738 - val_acc: 0.8870\n",
      "Epoch 10/30\n",
      "100/100 [==============================] - 25s 248ms/step - loss: 0.3368 - acc: 0.8565 - val_loss: 0.2665 - val_acc: 0.8990\n",
      "Epoch 11/30\n",
      "100/100 [==============================] - 25s 246ms/step - loss: 0.3421 - acc: 0.8490 - val_loss: 0.2714 - val_acc: 0.8830\n",
      "Epoch 12/30\n",
      "100/100 [==============================] - 25s 248ms/step - loss: 0.3341 - acc: 0.8480 - val_loss: 0.2615 - val_acc: 0.8910\n",
      "Epoch 13/30\n",
      "100/100 [==============================] - 25s 247ms/step - loss: 0.3310 - acc: 0.8540 - val_loss: 0.2505 - val_acc: 0.9000\n",
      "Epoch 14/30\n",
      "100/100 [==============================] - 25s 251ms/step - loss: 0.3072 - acc: 0.8660 - val_loss: 0.2460 - val_acc: 0.9020\n",
      "Epoch 15/30\n",
      "100/100 [==============================] - 25s 246ms/step - loss: 0.3211 - acc: 0.8610 - val_loss: 0.2483 - val_acc: 0.9020\n",
      "Epoch 16/30\n",
      "100/100 [==============================] - 25s 246ms/step - loss: 0.3102 - acc: 0.8735 - val_loss: 0.2450 - val_acc: 0.9040\n",
      "Epoch 17/30\n",
      "100/100 [==============================] - 25s 250ms/step - loss: 0.3126 - acc: 0.8745 - val_loss: 0.2568 - val_acc: 0.8860\n",
      "Epoch 18/30\n",
      "100/100 [==============================] - 25s 247ms/step - loss: 0.2986 - acc: 0.8665 - val_loss: 0.2532 - val_acc: 0.8950\n",
      "Epoch 19/30\n",
      "100/100 [==============================] - 25s 247ms/step - loss: 0.3085 - acc: 0.8660 - val_loss: 0.2436 - val_acc: 0.9020\n",
      "Epoch 20/30\n",
      "100/100 [==============================] - 25s 245ms/step - loss: 0.3076 - acc: 0.8660 - val_loss: 0.2410 - val_acc: 0.9020\n",
      "Epoch 21/30\n",
      "100/100 [==============================] - 25s 251ms/step - loss: 0.2999 - acc: 0.8755 - val_loss: 0.2501 - val_acc: 0.8960\n",
      "Epoch 22/30\n",
      "100/100 [==============================] - 25s 245ms/step - loss: 0.2967 - acc: 0.8770 - val_loss: 0.2410 - val_acc: 0.9010\n",
      "Epoch 23/30\n",
      "100/100 [==============================] - 25s 245ms/step - loss: 0.3029 - acc: 0.8685 - val_loss: 0.2371 - val_acc: 0.9000\n",
      "Epoch 24/30\n",
      "100/100 [==============================] - 25s 254ms/step - loss: 0.3023 - acc: 0.8610 - val_loss: 0.2375 - val_acc: 0.8990\n",
      "Epoch 25/30\n",
      "100/100 [==============================] - 25s 250ms/step - loss: 0.2798 - acc: 0.8815 - val_loss: 0.2402 - val_acc: 0.9040\n",
      "Epoch 26/30\n",
      "100/100 [==============================] - 25s 246ms/step - loss: 0.2937 - acc: 0.8765 - val_loss: 0.2381 - val_acc: 0.9080\n",
      "Epoch 27/30\n",
      "100/100 [==============================] - 25s 252ms/step - loss: 0.2897 - acc: 0.8700 - val_loss: 0.2382 - val_acc: 0.9020\n",
      "Epoch 28/30\n",
      "100/100 [==============================] - 26s 255ms/step - loss: 0.2822 - acc: 0.8770 - val_loss: 0.2419 - val_acc: 0.9010\n",
      "Epoch 29/30\n",
      "100/100 [==============================] - 24s 245ms/step - loss: 0.2798 - acc: 0.8785 - val_loss: 0.2376 - val_acc: 0.9060\n",
      "Epoch 30/30\n",
      "100/100 [==============================] - 25s 253ms/step - loss: 0.2813 - acc: 0.8810 - val_loss: 0.2377 - val_acc: 0.9010\n"
     ]
    }
   ],
   "source": [
    "train_datagen = ImageDataGenerator(\n",
    "    rescale=1./255,\n",
    "    rotation_range=40,\n",
    "    width_shift_range=.2,\n",
    "    height_shift_range=.2,\n",
    "    shear_range=.2,\n",
    "    zoom_range=.2,\n",
    "    horizontal_flip=True,\n",
    "    fill_mode='nearest')\n",
    "\n",
    "test_datagen = ImageDataGenerator(rescale=1./255)\n",
    "\n",
    "train_generator = train_datagen.flow_from_directory(\n",
    "    train_dir,\n",
    "    target_size=(150, 150),\n",
    "    batch_size=20,\n",
    "    class_mode='binary')\n",
    "\n",
    "validation_generator = test_datagen.flow_from_directory(\n",
    "    validation_dir,\n",
    "    target_size=(150, 150),\n",
    "    batch_size=20,\n",
    "    class_mode='binary')\n",
    "\n",
    "model.compile(loss='binary_crossentropy',\n",
    "             optimizer=optimizers.RMSprop(lr=2e-5),\n",
    "             metrics=['acc'])\n",
    "\n",
    "history = model.fit_generator(\n",
    "    train_generator,\n",
    "    steps_per_epoch=100,\n",
    "    epochs=30,\n",
    "    validation_data=validation_generator,\n",
    "    validation_steps=50)"
   ]
  },
  {
   "cell_type": "code",
   "execution_count": 45,
   "metadata": {},
   "outputs": [
    {
     "data": {
      "text/plain": [
       "<Figure size 432x288 with 0 Axes>"
      ]
     },
     "execution_count": 45,
     "metadata": {},
     "output_type": "execute_result"
    },
    {
     "data": {
      "image/png": "[encoded data removed]",
      "text/plain": [
       "<Figure size 432x288 with 1 Axes>"
      ]
     },
     "metadata": {},
     "output_type": "display_data"
    },
    {
     "data": {
      "image/png": "[encoded data removed]",
      "text/plain": [
       "<Figure size 432x288 with 1 Axes>"
      ]
     },
     "metadata": {},
     "output_type": "display_data"
    },
    {
     "data": {
      "text/plain": [
       "<Figure size 432x288 with 0 Axes>"
      ]
     },
     "metadata": {},
     "output_type": "display_data"
    }
   ],
   "source": [
    "acc = history.history['acc']\n",
    "val_acc = history.history['val_acc']\n",
    "loss = history.history['loss']\n",
    "val_loss = history.history['val_loss']\n",
    "\n",
    "epochs = range(1, len(acc) + 1)\n",
    "\n",
    "plt.plot(epochs, acc, 'bo', label='Training acc')\n",
    "plt.plot(epochs, val_acc, 'b', label='Validation acc')\n",
    "plt.legend()\n",
    "plt.figure()\n",
    "\n",
    "plt.plot(epochs, loss, 'bo', label='Training loss')\n",
    "plt.plot(epochs, val_loss, 'b', label='Validation loss')\n",
    "plt.legend()\n",
    "plt.figure()"
   ]
  },
  {
   "cell_type": "code",
   "execution_count": 46,
   "metadata": {},
   "outputs": [
    {
     "name": "stdout",
     "output_type": "stream",
     "text": [
      "_________________________________________________________________\n",
      "Layer (type)                 Output Shape              Param #   \n",
      "=================================================================\n",
      "input_2 (InputLayer)         (None, 150, 150, 3)       0         \n",
      "_________________________________________________________________\n",
      "block1_conv1 (Conv2D)        (None, 150, 150, 64)      1792      \n",
      "_________________________________________________________________\n",
      "block1_conv2 (Conv2D)        (None, 150, 150, 64)      36928     \n",
      "_________________________________________________________________\n",
      "block1_pool (MaxPooling2D)   (None, 75, 75, 64)        0         \n",
      "_________________________________________________________________\n",
      "block2_conv1 (Conv2D)        (None, 75, 75, 128)       73856     \n",
      "_________________________________________________________________\n",
      "block2_conv2 (Conv2D)        (None, 75, 75, 128)       147584    \n",
      "_________________________________________________________________\n",
      "block2_pool (MaxPooling2D)   (None, 37, 37, 128)       0         \n",
      "_________________________________________________________________\n",
      "block3_conv1 (Conv2D)        (None, 37, 37, 256)       295168    \n",
      "_________________________________________________________________\n",
      "block3_conv2 (Conv2D)        (None, 37, 37, 256)       590080    \n",
      "_________________________________________________________________\n",
      "block3_conv3 (Conv2D)        (None, 37, 37, 256)       590080    \n",
      "_________________________________________________________________\n",
      "block3_pool (MaxPooling2D)   (None, 18, 18, 256)       0         \n",
      "_________________________________________________________________\n",
      "block4_conv1 (Conv2D)        (None, 18, 18, 512)       1180160   \n",
      "_________________________________________________________________\n",
      "block4_conv2 (Conv2D)        (None, 18, 18, 512)       2359808   \n",
      "_________________________________________________________________\n",
      "block4_conv3 (Conv2D)        (None, 18, 18, 512)       2359808   \n",
      "_________________________________________________________________\n",
      "block4_pool (MaxPooling2D)   (None, 9, 9, 512)         0         \n",
      "_________________________________________________________________\n",
      "block5_conv1 (Conv2D)        (None, 9, 9, 512)         2359808   \n",
      "_________________________________________________________________\n",
      "block5_conv2 (Conv2D)        (None, 9, 9, 512)         2359808   \n",
      "_________________________________________________________________\n",
      "block5_conv3 (Conv2D)        (None, 9, 9, 512)         2359808   \n",
      "_________________________________________________________________\n",
      "block5_pool (MaxPooling2D)   (None, 4, 4, 512)         0         \n",
      "=================================================================\n",
      "Total params: 14,714,688\n",
      "Trainable params: 0\n",
      "Non-trainable params: 14,714,688\n",
      "_________________________________________________________________\n"
     ]
    }
   ],
   "source": [
    "conv_base.summary()"
   ]
  },
  {
   "cell_type": "code",
   "execution_count": 48,
   "metadata": {},
   "outputs": [],
   "source": [
    "conv_base.trainable = True\n",
    "\n",
    "set_trainable = False\n",
    "for layer in conv_base.layers:\n",
    "    if layer.name == 'block5_conv1':\n",
    "        set_trainable = True\n",
    "    if set_trainable:\n",
    "        layer.trainable = True \n",
    "    else:\n",
    "        layer.trainable = False"
   ]
  },
  {
   "cell_type": "code",
   "execution_count": 49,
   "metadata": {},
   "outputs": [
    {
     "name": "stdout",
     "output_type": "stream",
     "text": [
      "Epoch 1/100\n",
      "100/100 [==============================] - 27s 268ms/step - loss: 0.2972 - acc: 0.8665 - val_loss: 0.2334 - val_acc: 0.9050\n",
      "Epoch 2/100\n",
      "100/100 [==============================] - 25s 248ms/step - loss: 0.2540 - acc: 0.8865 - val_loss: 0.2061 - val_acc: 0.9150\n",
      "Epoch 3/100\n",
      "100/100 [==============================] - 25s 246ms/step - loss: 0.2533 - acc: 0.8965 - val_loss: 0.2001 - val_acc: 0.9240\n",
      "Epoch 4/100\n",
      "100/100 [==============================] - 25s 247ms/step - loss: 0.2247 - acc: 0.9055 - val_loss: 0.1947 - val_acc: 0.9240\n",
      "Epoch 5/100\n",
      "100/100 [==============================] - 25s 247ms/step - loss: 0.2022 - acc: 0.9150 - val_loss: 0.2213 - val_acc: 0.9230\n",
      "Epoch 6/100\n",
      "100/100 [==============================] - 25s 249ms/step - loss: 0.2032 - acc: 0.9115 - val_loss: 0.2554 - val_acc: 0.9100\n",
      "Epoch 7/100\n",
      "100/100 [==============================] - 25s 246ms/step - loss: 0.1828 - acc: 0.9265 - val_loss: 0.1865 - val_acc: 0.9240\n",
      "Epoch 8/100\n",
      "100/100 [==============================] - 25s 245ms/step - loss: 0.1579 - acc: 0.9370 - val_loss: 0.2057 - val_acc: 0.9240\n",
      "Epoch 9/100\n",
      "100/100 [==============================] - 25s 250ms/step - loss: 0.1745 - acc: 0.9270 - val_loss: 0.1822 - val_acc: 0.9340\n",
      "Epoch 10/100\n",
      "100/100 [==============================] - 25s 249ms/step - loss: 0.1590 - acc: 0.9375 - val_loss: 0.2011 - val_acc: 0.9280\n",
      "Epoch 11/100\n",
      "100/100 [==============================] - 25s 247ms/step - loss: 0.1530 - acc: 0.9405 - val_loss: 0.1786 - val_acc: 0.9310\n",
      "Epoch 12/100\n",
      "100/100 [==============================] - 25s 247ms/step - loss: 0.1390 - acc: 0.9445 - val_loss: 0.1863 - val_acc: 0.9280\n",
      "Epoch 13/100\n",
      "100/100 [==============================] - 25s 253ms/step - loss: 0.1258 - acc: 0.9450 - val_loss: 0.2061 - val_acc: 0.9310\n",
      "Epoch 14/100\n",
      "100/100 [==============================] - 25s 247ms/step - loss: 0.1521 - acc: 0.9380 - val_loss: 0.1705 - val_acc: 0.9380\n",
      "Epoch 15/100\n",
      "100/100 [==============================] - 25s 249ms/step - loss: 0.1182 - acc: 0.9525 - val_loss: 0.1799 - val_acc: 0.9330\n",
      "Epoch 16/100\n",
      "100/100 [==============================] - 26s 257ms/step - loss: 0.1175 - acc: 0.9550 - val_loss: 0.1858 - val_acc: 0.9300\n",
      "Epoch 17/100\n",
      "100/100 [==============================] - 24s 245ms/step - loss: 0.1016 - acc: 0.9630 - val_loss: 0.2008 - val_acc: 0.9320\n",
      "Epoch 18/100\n",
      "100/100 [==============================] - 25s 246ms/step - loss: 0.1084 - acc: 0.9595 - val_loss: 0.1826 - val_acc: 0.9310\n",
      "Epoch 19/100\n",
      "100/100 [==============================] - 25s 252ms/step - loss: 0.1080 - acc: 0.9540 - val_loss: 0.2254 - val_acc: 0.9270\n",
      "Epoch 20/100\n",
      "100/100 [==============================] - 25s 247ms/step - loss: 0.1009 - acc: 0.9575 - val_loss: 0.1765 - val_acc: 0.9340\n",
      "Epoch 21/100\n",
      "100/100 [==============================] - 25s 247ms/step - loss: 0.0948 - acc: 0.9610 - val_loss: 0.1996 - val_acc: 0.9310\n",
      "Epoch 22/100\n",
      "100/100 [==============================] - 25s 247ms/step - loss: 0.0946 - acc: 0.9590 - val_loss: 0.2080 - val_acc: 0.9260\n",
      "Epoch 23/100\n",
      "100/100 [==============================] - 25s 245ms/step - loss: 0.0781 - acc: 0.9705 - val_loss: 0.2096 - val_acc: 0.9310\n",
      "Epoch 24/100\n",
      "100/100 [==============================] - 25s 253ms/step - loss: 0.0916 - acc: 0.9690 - val_loss: 0.2015 - val_acc: 0.9320\n",
      "Epoch 25/100\n",
      "100/100 [==============================] - 25s 254ms/step - loss: 0.1057 - acc: 0.9595 - val_loss: 0.1815 - val_acc: 0.9320\n",
      "Epoch 26/100\n",
      "100/100 [==============================] - 25s 247ms/step - loss: 0.0897 - acc: 0.9655 - val_loss: 0.1858 - val_acc: 0.9380\n",
      "Epoch 27/100\n",
      "100/100 [==============================] - 25s 247ms/step - loss: 0.0746 - acc: 0.9720 - val_loss: 0.2081 - val_acc: 0.9260\n",
      "Epoch 28/100\n",
      "100/100 [==============================] - 25s 247ms/step - loss: 0.0742 - acc: 0.9720 - val_loss: 0.2033 - val_acc: 0.9350\n",
      "Epoch 29/100\n",
      "100/100 [==============================] - 25s 252ms/step - loss: 0.0648 - acc: 0.9770 - val_loss: 0.2218 - val_acc: 0.9240\n",
      "Epoch 30/100\n",
      "100/100 [==============================] - 25s 247ms/step - loss: 0.0618 - acc: 0.9790 - val_loss: 0.2004 - val_acc: 0.9380\n",
      "Epoch 31/100\n",
      "100/100 [==============================] - 25s 246ms/step - loss: 0.0741 - acc: 0.9715 - val_loss: 0.2384 - val_acc: 0.9260\n",
      "Epoch 32/100\n",
      "100/100 [==============================] - 26s 256ms/step - loss: 0.0706 - acc: 0.9730 - val_loss: 0.1771 - val_acc: 0.9340\n",
      "Epoch 33/100\n",
      "100/100 [==============================] - 25s 246ms/step - loss: 0.0606 - acc: 0.9800 - val_loss: 0.1907 - val_acc: 0.9320\n",
      "Epoch 34/100\n",
      "100/100 [==============================] - 25s 246ms/step - loss: 0.0607 - acc: 0.9765 - val_loss: 0.2323 - val_acc: 0.9320\n",
      "Epoch 35/100\n",
      "100/100 [==============================] - 25s 246ms/step - loss: 0.0539 - acc: 0.9830 - val_loss: 0.2048 - val_acc: 0.9360\n",
      "Epoch 36/100\n",
      "100/100 [==============================] - 25s 249ms/step - loss: 0.0543 - acc: 0.9800 - val_loss: 0.2161 - val_acc: 0.9370\n",
      "Epoch 37/100\n",
      "100/100 [==============================] - 26s 256ms/step - loss: 0.0664 - acc: 0.9750 - val_loss: 0.2030 - val_acc: 0.9370\n",
      "Epoch 38/100\n",
      "100/100 [==============================] - 25s 247ms/step - loss: 0.0539 - acc: 0.9775 - val_loss: 0.1966 - val_acc: 0.9390\n",
      "Epoch 39/100\n",
      "100/100 [==============================] - 25s 251ms/step - loss: 0.0477 - acc: 0.9815 - val_loss: 0.2307 - val_acc: 0.9300\n",
      "Epoch 40/100\n",
      "100/100 [==============================] - 26s 255ms/step - loss: 0.0536 - acc: 0.9805 - val_loss: 0.2493 - val_acc: 0.9240\n",
      "Epoch 41/100\n",
      "100/100 [==============================] - 25s 246ms/step - loss: 0.0441 - acc: 0.9825 - val_loss: 0.2460 - val_acc: 0.9350\n",
      "Epoch 42/100\n",
      "100/100 [==============================] - 25s 254ms/step - loss: 0.0441 - acc: 0.9825 - val_loss: 0.2124 - val_acc: 0.9400\n",
      "Epoch 43/100\n",
      "100/100 [==============================] - 26s 261ms/step - loss: 0.0434 - acc: 0.9845 - val_loss: 0.2016 - val_acc: 0.9430\n",
      "Epoch 44/100\n",
      "100/100 [==============================] - 26s 263ms/step - loss: 0.0471 - acc: 0.9800 - val_loss: 0.1933 - val_acc: 0.9370\n",
      "Epoch 45/100\n",
      "100/100 [==============================] - 26s 258ms/step - loss: 0.0353 - acc: 0.9860 - val_loss: 0.2301 - val_acc: 0.9370\n",
      "Epoch 46/100\n",
      "100/100 [==============================] - 26s 255ms/step - loss: 0.0470 - acc: 0.9820 - val_loss: 0.2534 - val_acc: 0.9300\n",
      "Epoch 47/100\n",
      "100/100 [==============================] - 26s 259ms/step - loss: 0.0364 - acc: 0.9860 - val_loss: 0.2143 - val_acc: 0.9380\n",
      "Epoch 48/100\n",
      "100/100 [==============================] - 25s 255ms/step - loss: 0.0405 - acc: 0.9880 - val_loss: 0.2165 - val_acc: 0.9380\n",
      "Epoch 49/100\n",
      "100/100 [==============================] - 26s 263ms/step - loss: 0.0361 - acc: 0.9890 - val_loss: 0.2358 - val_acc: 0.9370\n",
      "Epoch 50/100\n",
      "100/100 [==============================] - 26s 261ms/step - loss: 0.0374 - acc: 0.9845 - val_loss: 0.2496 - val_acc: 0.9320\n",
      "Epoch 51/100\n",
      "100/100 [==============================] - 26s 263ms/step - loss: 0.0431 - acc: 0.9850 - val_loss: 0.2724 - val_acc: 0.9320\n",
      "Epoch 52/100\n",
      "100/100 [==============================] - 26s 263ms/step - loss: 0.0285 - acc: 0.9900 - val_loss: 0.2126 - val_acc: 0.9410\n",
      "Epoch 53/100\n",
      "100/100 [==============================] - 27s 266ms/step - loss: 0.0256 - acc: 0.9915 - val_loss: 0.3337 - val_acc: 0.9250\n",
      "Epoch 54/100\n",
      "100/100 [==============================] - 26s 256ms/step - loss: 0.0302 - acc: 0.9905 - val_loss: 0.2323 - val_acc: 0.9410\n",
      "Epoch 55/100\n",
      "100/100 [==============================] - 26s 263ms/step - loss: 0.0399 - acc: 0.9860 - val_loss: 0.2258 - val_acc: 0.9370\n",
      "Epoch 56/100\n",
      "100/100 [==============================] - 26s 262ms/step - loss: 0.0276 - acc: 0.9900 - val_loss: 0.2851 - val_acc: 0.9270\n",
      "Epoch 57/100\n",
      "100/100 [==============================] - 26s 263ms/step - loss: 0.0359 - acc: 0.9870 - val_loss: 0.2195 - val_acc: 0.9370\n",
      "Epoch 58/100\n",
      "100/100 [==============================] - 26s 256ms/step - loss: 0.0327 - acc: 0.9860 - val_loss: 0.2219 - val_acc: 0.9370\n",
      "Epoch 59/100\n",
      "100/100 [==============================] - 26s 257ms/step - loss: 0.0388 - acc: 0.9845 - val_loss: 0.3436 - val_acc: 0.9210\n",
      "Epoch 60/100\n",
      "100/100 [==============================] - 26s 259ms/step - loss: 0.0362 - acc: 0.9880 - val_loss: 0.2242 - val_acc: 0.9410\n"
     ]
    },
    {
     "name": "stdout",
     "output_type": "stream",
     "text": [
      "Epoch 61/100\n",
      "100/100 [==============================] - 26s 265ms/step - loss: 0.0301 - acc: 0.9905 - val_loss: 0.3584 - val_acc: 0.9190\n",
      "Epoch 62/100\n",
      "100/100 [==============================] - 26s 258ms/step - loss: 0.0409 - acc: 0.9850 - val_loss: 0.2672 - val_acc: 0.9280\n",
      "Epoch 63/100\n",
      "100/100 [==============================] - 26s 256ms/step - loss: 0.0289 - acc: 0.9890 - val_loss: 0.2466 - val_acc: 0.9360\n",
      "Epoch 64/100\n",
      "100/100 [==============================] - 25s 254ms/step - loss: 0.0267 - acc: 0.9895 - val_loss: 0.2775 - val_acc: 0.9300\n",
      "Epoch 65/100\n",
      "100/100 [==============================] - 25s 246ms/step - loss: 0.0298 - acc: 0.9880 - val_loss: 0.2311 - val_acc: 0.9410\n",
      "Epoch 66/100\n",
      "100/100 [==============================] - 25s 251ms/step - loss: 0.0294 - acc: 0.9900 - val_loss: 0.2867 - val_acc: 0.9370\n",
      "Epoch 67/100\n",
      "100/100 [==============================] - 26s 256ms/step - loss: 0.0236 - acc: 0.9910 - val_loss: 0.2306 - val_acc: 0.9410\n",
      "Epoch 68/100\n",
      "100/100 [==============================] - 25s 246ms/step - loss: 0.0236 - acc: 0.9905 - val_loss: 0.2197 - val_acc: 0.9430\n",
      "Epoch 69/100\n",
      "100/100 [==============================] - 25s 247ms/step - loss: 0.0280 - acc: 0.9910 - val_loss: 0.3311 - val_acc: 0.9230\n",
      "Epoch 70/100\n",
      "100/100 [==============================] - 26s 256ms/step - loss: 0.0301 - acc: 0.9895 - val_loss: 0.4379 - val_acc: 0.9150\n",
      "Epoch 71/100\n",
      "100/100 [==============================] - 26s 256ms/step - loss: 0.0234 - acc: 0.9910 - val_loss: 0.3228 - val_acc: 0.9360\n",
      "Epoch 72/100\n",
      "100/100 [==============================] - 26s 256ms/step - loss: 0.0205 - acc: 0.9945 - val_loss: 0.2556 - val_acc: 0.9460\n",
      "Epoch 73/100\n",
      "100/100 [==============================] - 26s 265ms/step - loss: 0.0172 - acc: 0.9945 - val_loss: 0.2905 - val_acc: 0.9320\n",
      "Epoch 74/100\n",
      "100/100 [==============================] - 26s 261ms/step - loss: 0.0196 - acc: 0.9935 - val_loss: 0.2655 - val_acc: 0.9370\n",
      "Epoch 75/100\n",
      "100/100 [==============================] - 26s 257ms/step - loss: 0.0279 - acc: 0.9905 - val_loss: 0.3284 - val_acc: 0.9290\n",
      "Epoch 76/100\n",
      "100/100 [==============================] - 26s 259ms/step - loss: 0.0231 - acc: 0.9940 - val_loss: 0.2607 - val_acc: 0.9390\n",
      "Epoch 77/100\n",
      "100/100 [==============================] - 27s 267ms/step - loss: 0.0204 - acc: 0.9940 - val_loss: 0.2604 - val_acc: 0.9340\n",
      "Epoch 78/100\n",
      "100/100 [==============================] - 26s 264ms/step - loss: 0.0263 - acc: 0.9905 - val_loss: 0.2600 - val_acc: 0.9380\n",
      "Epoch 79/100\n",
      "100/100 [==============================] - 26s 260ms/step - loss: 0.0250 - acc: 0.9890 - val_loss: 0.2795 - val_acc: 0.9340\n",
      "Epoch 80/100\n",
      "100/100 [==============================] - 26s 263ms/step - loss: 0.0223 - acc: 0.9925 - val_loss: 0.3081 - val_acc: 0.9290\n",
      "Epoch 81/100\n",
      "100/100 [==============================] - 26s 256ms/step - loss: 0.0316 - acc: 0.9885 - val_loss: 0.2598 - val_acc: 0.9340\n",
      "Epoch 82/100\n",
      "100/100 [==============================] - 25s 255ms/step - loss: 0.0212 - acc: 0.9930 - val_loss: 0.2567 - val_acc: 0.9370\n",
      "Epoch 83/100\n",
      "100/100 [==============================] - 26s 258ms/step - loss: 0.0173 - acc: 0.9950 - val_loss: 0.2991 - val_acc: 0.9350\n",
      "Epoch 84/100\n",
      "100/100 [==============================] - 26s 256ms/step - loss: 0.0239 - acc: 0.9925 - val_loss: 0.2918 - val_acc: 0.9340\n",
      "Epoch 85/100\n",
      "100/100 [==============================] - 26s 256ms/step - loss: 0.0199 - acc: 0.9930 - val_loss: 0.2489 - val_acc: 0.9410\n",
      "Epoch 86/100\n",
      "100/100 [==============================] - 25s 246ms/step - loss: 0.0150 - acc: 0.9930 - val_loss: 0.4440 - val_acc: 0.9100\n",
      "Epoch 87/100\n",
      "100/100 [==============================] - 25s 247ms/step - loss: 0.0220 - acc: 0.9935 - val_loss: 0.4038 - val_acc: 0.9190\n",
      "Epoch 88/100\n",
      "100/100 [==============================] - 25s 248ms/step - loss: 0.0197 - acc: 0.9920 - val_loss: 0.2640 - val_acc: 0.9440\n",
      "Epoch 89/100\n",
      "100/100 [==============================] - 25s 246ms/step - loss: 0.0254 - acc: 0.9925 - val_loss: 0.2838 - val_acc: 0.9330\n",
      "Epoch 90/100\n",
      "100/100 [==============================] - 25s 247ms/step - loss: 0.0263 - acc: 0.9900 - val_loss: 0.2545 - val_acc: 0.9440\n",
      "Epoch 91/100\n",
      "100/100 [==============================] - 25s 249ms/step - loss: 0.0223 - acc: 0.9920 - val_loss: 0.4240 - val_acc: 0.9180\n",
      "Epoch 92/100\n",
      "100/100 [==============================] - 25s 250ms/step - loss: 0.0178 - acc: 0.9950 - val_loss: 0.2506 - val_acc: 0.9370\n",
      "Epoch 93/100\n",
      "100/100 [==============================] - 25s 246ms/step - loss: 0.0307 - acc: 0.9910 - val_loss: 0.2543 - val_acc: 0.9430\n",
      "Epoch 94/100\n",
      "100/100 [==============================] - 25s 252ms/step - loss: 0.0203 - acc: 0.9920 - val_loss: 0.2508 - val_acc: 0.9430\n",
      "Epoch 95/100\n",
      "100/100 [==============================] - 25s 246ms/step - loss: 0.0197 - acc: 0.9925 - val_loss: 0.3004 - val_acc: 0.9360\n",
      "Epoch 96/100\n",
      "100/100 [==============================] - 25s 247ms/step - loss: 0.0224 - acc: 0.9935 - val_loss: 0.2777 - val_acc: 0.9360\n",
      "Epoch 97/100\n",
      "100/100 [==============================] - 25s 249ms/step - loss: 0.0183 - acc: 0.9945 - val_loss: 0.2707 - val_acc: 0.9410\n",
      "Epoch 98/100\n",
      "100/100 [==============================] - 25s 248ms/step - loss: 0.0150 - acc: 0.9965 - val_loss: 0.4099 - val_acc: 0.9280\n",
      "Epoch 99/100\n",
      "100/100 [==============================] - 25s 253ms/step - loss: 0.0198 - acc: 0.9910 - val_loss: 0.3968 - val_acc: 0.9220\n",
      "Epoch 100/100\n",
      "100/100 [==============================] - 25s 250ms/step - loss: 0.0203 - acc: 0.9920 - val_loss: 0.2836 - val_acc: 0.9420\n"
     ]
    }
   ],
   "source": [
    "model.compile(loss='binary_crossentropy',\n",
    "             optimizer=optimizers.RMSprop(lr=1e-5),\n",
    "             metrics=['acc'])\n",
    "\n",
    "history = model.fit_generator(\n",
    "    train_generator,\n",
    "    steps_per_epoch=100,\n",
    "    epochs=100,\n",
    "    validation_data=validation_generator,\n",
    "    validation_steps=50)"
   ]
  },
  {
   "cell_type": "code",
   "execution_count": 50,
   "metadata": {},
   "outputs": [
    {
     "data": {
      "text/plain": [
       "<Figure size 432x288 with 0 Axes>"
      ]
     },
     "execution_count": 50,
     "metadata": {},
     "output_type": "execute_result"
    },
    {
     "data": {
      "image/png": "[encoded data removed]",
      "text/plain": [
       "<Figure size 432x288 with 1 Axes>"
      ]
     },
     "metadata": {},
     "output_type": "display_data"
    },
    {
     "data": {
      "image/png": "[encoded data removed]",
      "text/plain": [
       "<Figure size 432x288 with 1 Axes>"
      ]
     },
     "metadata": {},
     "output_type": "display_data"
    },
    {
     "data": {
      "text/plain": [
       "<Figure size 432x288 with 0 Axes>"
      ]
     },
     "metadata": {},
     "output_type": "display_data"
    }
   ],
   "source": [
    "acc = history.history['acc']\n",
    "val_acc = history.history['val_acc']\n",
    "loss = history.history['loss']\n",
    "val_loss = history.history['val_loss']\n",
    "\n",
    "epochs = range(1, len(acc) + 1)\n",
    "\n",
    "plt.plot(epochs, acc, 'bo', label='Training acc')\n",
    "plt.plot(epochs, val_acc, 'b', label='Validation acc')\n",
    "plt.legend()\n",
    "plt.figure()\n",
    "\n",
    "plt.plot(epochs, loss, 'bo', label='Training loss')\n",
    "plt.plot(epochs, val_loss, 'b', label='Validation loss')\n",
    "plt.legend()\n",
    "plt.figure()"
   ]
  },
  {
   "cell_type": "code",
   "execution_count": 51,
   "metadata": {},
   "outputs": [],
   "source": [
    "def smooth_curve(points, factor=.8):\n",
    "    smoothed_points = []\n",
    "    for point in points:\n",
    "        if smoothed_points:\n",
    "            previous = smoothed_points[-1]\n",
    "            smoothed_points.append(previous * factor + point * (1 - factor))\n",
    "        else:\n",
    "            smoothed_points.append(point)\n",
    "    return smoothed_points"
   ]
  },
  {
   "cell_type": "code",
   "execution_count": 53,
   "metadata": {},
   "outputs": [
    {
     "data": {
      "text/plain": [
       "<Figure size 432x288 with 0 Axes>"
      ]
     },
     "execution_count": 53,
     "metadata": {},
     "output_type": "execute_result"
    },
    {
     "data": {
      "image/png": "[encoded data removed]",
      "text/plain": [
       "<Figure size 432x288 with 1 Axes>"
      ]
     },
     "metadata": {},
     "output_type": "display_data"
    },
    {
     "data": {
      "image/png": "[encoded data removed]",
      "text/plain": [
       "<Figure size 432x288 with 1 Axes>"
      ]
     },
     "metadata": {},
     "output_type": "display_data"
    },
    {
     "data": {
      "text/plain": [
       "<Figure size 432x288 with 0 Axes>"
      ]
     },
     "metadata": {},
     "output_type": "display_data"
    }
   ],
   "source": [
    "plt.plot(epochs, smooth_curve(acc), 'bo', label='Smoothed training acc')\n",
    "plt.plot(epochs, smooth_curve(val_acc), 'b', label='Smoothed validation acc')\n",
    "plt.legend()\n",
    "plt.figure()\n",
    "\n",
    "plt.plot(epochs, smooth_curve(loss), 'bo', label='Smoothed training loss')\n",
    "plt.plot(epochs, smooth_curve(val_loss), 'b', label='Smoothed validation loss')\n",
    "plt.legend()\n",
    "plt.figure()"
   ]
  },
  {
   "cell_type": "code",
   "execution_count": 54,
   "metadata": {},
   "outputs": [
    {
     "name": "stdout",
     "output_type": "stream",
     "text": [
      "Found 1000 images belonging to 2 classes.\n",
      "test acc: 0.9429999899864197\n"
     ]
    }
   ],
   "source": [
    "test_generator = test_datagen.flow_from_directory(\n",
    "    test_dir,\n",
    "    target_size=(150, 150),\n",
    "    batch_size=20,\n",
    "    class_mode='binary')\n",
    "\n",
    "test_loss, test_acc = model.evaluate_generator(test_generator, steps=50)\n",
    "print('test acc:', test_acc)"
   ]
  },
  {
   "cell_type": "code",
   "execution_count": null,
   "metadata": {},
   "outputs": [],
   "source": []
  }
 ],
 "metadata": {
  "kernelspec": {
   "display_name": "Python [conda env:tensorflow_p36]",
   "language": "python",
   "name": "conda-env-tensorflow_p36-py"
  },
  "language_info": {
   "codemirror_mode": {
    "name": "ipython",
    "version": 3
   },
   "file_extension": ".py",
   "mimetype": "text/x-python",
   "name": "python",
   "nbconvert_exporter": "python",
   "pygments_lexer": "ipython3",
   "version": "3.6.6"
  }
 },
 "nbformat": 4,
 "nbformat_minor": 2
}
